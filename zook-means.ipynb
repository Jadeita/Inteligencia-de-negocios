{
  "nbformat": 4,
  "nbformat_minor": 0,
  "metadata": {
    "colab": {
      "name": "Animails.ipynb",
      "provenance": []
    },
    "kernelspec": {
      "name": "python3",
      "display_name": "Python 3"
    },
    "language_info": {
      "name": "python"
    }
  },
  "cells": [
    {
      "cell_type": "code",
      "execution_count": 3,
      "metadata": {
        "id": "T-PJK6hGDBvp"
      },
      "outputs": [],
      "source": [
        "import pandas as pd\n",
        "from sklearn.cluster import KMeans"
      ]
    },
    {
      "cell_type": "code",
      "source": [
        "if __name__ == '__main__':\n",
        "\n",
        "    dataset = pd.read_csv('/content/zoo4.csv') #Ubicación de archivo fuente\n",
        "    x = dataset.drop(['animal_name'], axis=1 )\n",
        "\n",
        "    \n",
        "    kmeans = KMeans(n_clusters=7, random_state=1).fit(x) #Usar n_clusters para el númer de grupos deseados, random_state se define con cualquier número para asegurar los mismos resultados\n",
        "    print('='*64) #Esta línea es solo para estética de impresión en terminal\n",
        "    print('Total de grupos:', len(kmeans.cluster_centers_))\n",
        "    print('='*64)\n",
        "    dataset['grupo'] = kmeans.predict(x) #Nombre de la nueva columna donde pondremos nuestra predicción de algoritmo\n",
        "    dataset.to_csv('./Output/zoo.csv', index=False, header=True) #Creación de archivo en carpeta destino\n",
        "\n",
        "    grouped_df = dataset.groupby(['grupo']) \n",
        "\n",
        "    for key, group in grouped_df:  #Muestra cada grupo\n",
        "        print(grouped_df.get_group(key), \"\\n\\n\", '='*180)  \n",
        "\n",
        "    print('El Archivo \"groups.csv\" ha sido creado con éxito en la carpeta \"out\".')"
      ],
      "metadata": {
        "colab": {
          "base_uri": "https://localhost:8080/"
        },
        "id": "-6RWBAB9QEFE",
        "outputId": "d9970d8f-95e9-43fd-aea9-fb71d453ebdf"
      },
      "execution_count": 5,
      "outputs": [
        {
          "output_type": "stream",
          "name": "stdout",
          "text": [
            "================================================================\n",
            "Total de grupos: 7\n",
            "================================================================\n",
            "   animal_name  hair  feathers  eggs  ...  tail  domestic  catsize  grupo\n",
            "0       turtle     0         0     1  ...     1         1        1      0\n",
            "1    chameleon     0         0     1  ...     1         1        0      0\n",
            "4        gecko     0         0     1  ...     1         1        0      0\n",
            "11       skink     0         0     1  ...     1         0        0      0\n",
            "19  salamander     0         0     1  ...     1         1        0      0\n",
            "20       siren     0         0     1  ...     1         0        0      0\n",
            "21   tree frog     0         0     1  ...     0         0        0      0\n",
            "22   dart frog     0         0     1  ...     0         0        0      0\n",
            "23   firebelly     0         0     1  ...     0         0        0      0\n",
            "24   wart toad     0         0     1  ...     0         0        0      0\n",
            "\n",
            "[10 rows x 18 columns] \n",
            "\n",
            " ====================================================================================================================================================================================\n",
            "   animal_name  hair  feathers  eggs  ...  tail  domestic  catsize  grupo\n",
            "37     scallop     0         0     1  ...     0         0        0      1\n",
            "39       snail     0         0     1  ...     0         0        0      1\n",
            "40    silkworm     0         0     1  ...     0         0        0      1\n",
            "41   jellyfish     0         0     1  ...     0         0        1      1\n",
            "42       squid     0         0     1  ...     0         0        1      1\n",
            "\n",
            "[5 rows x 18 columns] \n",
            "\n",
            " ====================================================================================================================================================================================\n",
            "   animal_name  hair  feathers  eggs  ...  tail  domestic  catsize  grupo\n",
            "25    mosquito     0         0     1  ...     0         0        0      2\n",
            "26      hornet     0         0     1  ...     0         0        0      2\n",
            "27     cricket     0         0     1  ...     0         0        0      2\n",
            "28      beetle     0         0     1  ...     0         0        0      2\n",
            "29   butterfly     1         0     1  ...     0         0        0      2\n",
            "30    palmetto     0         0     1  ...     0         0        0      2\n",
            "31   cockroach     0         0     1  ...     0         0        0      2\n",
            "32      mantis     0         0     1  ...     0         0        0      2\n",
            "33   dragonfly     0         0     1  ...     0         0        0      2\n",
            "34       aphid     0         0     1  ...     0         0        0      2\n",
            "35      cicada     0         0     1  ...     0         0        0      2\n",
            "36     antlion     0         0     1  ...     0         0        0      2\n",
            "\n",
            "[12 rows x 18 columns] \n",
            "\n",
            " ====================================================================================================================================================================================\n",
            "   animal_name  hair  feathers  eggs  ...  tail  domestic  catsize  grupo\n",
            "12     anchovy     0         0     1  ...     1         0        0      3\n",
            "13    flounder     0         0     1  ...     1         0        1      3\n",
            "14     halibut     0         0     1  ...     1         0        1      3\n",
            "15    mackerel     0         0     1  ...     1         0        1      3\n",
            "16   barracuda     0         0     1  ...     1         0        1      3\n",
            "17      marlin     0         0     1  ...     1         0        1      3\n",
            "18       trout     0         0     1  ...     1         0        1      3\n",
            "\n",
            "[7 rows x 18 columns] \n",
            "\n",
            " ====================================================================================================================================================================================\n",
            "  animal_name  hair  feathers  eggs  milk  ...  legs  tail  domestic  catsize  grupo\n",
            "5      python     0         0     1     0  ...     0     1         0        1      4\n",
            "6         boa     0         0     1     0  ...     0     1         0        1      4\n",
            "7       adder     0         0     1     0  ...     0     1         0        1      4\n",
            "\n",
            "[3 rows x 18 columns] \n",
            "\n",
            " ====================================================================================================================================================================================\n",
            "   animal_name  hair  feathers  eggs  ...  tail  domestic  catsize  grupo\n",
            "38      spider     0         0     1  ...     0         0        0      5\n",
            "\n",
            "[1 rows x 18 columns] \n",
            "\n",
            " ====================================================================================================================================================================================\n",
            "   animal_name  hair  feathers  eggs  ...  tail  domestic  catsize  grupo\n",
            "2       iguana     0         0     1  ...     1         1        1      6\n",
            "3       lizard     0         0     1  ...     1         0        0      6\n",
            "8    crocodile     0         0     1  ...     1         0        1      6\n",
            "9    alligator     0         0     1  ...     1         0        1      6\n",
            "10     gharial     0         0     1  ...     1         0        1      6\n",
            "\n",
            "[5 rows x 18 columns] \n",
            "\n",
            " ====================================================================================================================================================================================\n",
            "El Archivo \"groups.csv\" ha sido creado con éxito en la carpeta \"out\".\n"
          ]
        }
      ]
    }
  ]
}